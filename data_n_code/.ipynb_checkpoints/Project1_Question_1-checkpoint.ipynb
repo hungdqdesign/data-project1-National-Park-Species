{
 "cells": [
  {
   "cell_type": "code",
   "execution_count": 1,
   "metadata": {
    "executionInfo": {
     "elapsed": 15,
     "status": "ok",
     "timestamp": 1743653848470,
     "user": {
      "displayName": "Trung Ngô",
      "userId": "00146216108353082111"
     },
     "user_tz": -420
    },
    "id": "Bpj207ZwziS0"
   },
   "outputs": [],
   "source": [
    "# Load Libraries\n",
    "import dash\n",
    "from dash import dcc, html, Input, Output\n",
    "import pandas as pd\n",
    "import plotly.express as px\n",
    "import plotly.graph_objects as go\n",
    "import numpy as np"
   ]
  },
  {
   "cell_type": "code",
   "execution_count": 5,
   "metadata": {
    "colab": {
     "base_uri": "https://localhost:8080/",
     "height": 1000
    },
    "executionInfo": {
     "elapsed": 566,
     "status": "ok",
     "timestamp": 1743654132637,
     "user": {
      "displayName": "Trung Ngô",
      "userId": "00146216108353082111"
     },
     "user_tz": -420
    },
    "id": "H3LOurIZziS4",
    "outputId": "fecf6012-5421-42df-ef42-be4596373cac"
   },
   "outputs": [
    {
     "data": {
      "text/html": [
       "\n",
       "        <iframe\n",
       "            width=\"100%\"\n",
       "            height=\"1000\"\n",
       "            src=\"http://127.0.0.1:8080/\"\n",
       "            frameborder=\"0\"\n",
       "            allowfullscreen\n",
       "            \n",
       "        ></iframe>\n",
       "        "
      ],
      "text/plain": [
       "<IPython.lib.display.IFrame at 0x20c84103c50>"
      ]
     },
     "metadata": {},
     "output_type": "display_data"
    },
    {
     "name": "stdout",
     "output_type": "stream",
     "text": [
      "selected_category:  Bird\n"
     ]
    }
   ],
   "source": [
    "file_path = 'most_visited_nps_species_data_tidy.csv'\n",
    "\n",
    "df = pd.read_csv(file_path)\n",
    "\n",
    "# Define food chain pyramid order\n",
    "food_chain_order = {\n",
    "    \"Vascular Plant\": 1,\n",
    "    \"Non-vascular Plant\": 1,\n",
    "    \"Chromista\": 1,\n",
    "    \"Fungi\": 2,\n",
    "    \"Insect\": 3,\n",
    "    \"Spider/Scorpion\": 3,\n",
    "    \"Other Non-vertebrates\": 3,\n",
    "    \"Fish\": 4,\n",
    "    \"Bird\": 5,\n",
    "    \"Mammal\": 6,\n",
    "}\n",
    "\n",
    "# Map CategoryName with foodchain level\n",
    "df[\"FoodChainLevel\"] = df[\"CategoryName\"].map(food_chain_order)\n",
    "\n",
    "# Group CategoryName with foodchain level and sort order\n",
    "def filter_data(parks):\n",
    "    filtered_df = df[df['ParkName'].isin(parks)]\n",
    "    aggregated_df = (\n",
    "        filtered_df.groupby(['CategoryName', 'FoodChainLevel'])['References']\n",
    "        .sum()\n",
    "        .reset_index()\n",
    "    )\n",
    "    return aggregated_df\n",
    "\n",
    "# Dash App\n",
    "app = dash.Dash(__name__)\n",
    "\n",
    "app.layout = html.Div([\n",
    "    html.H1(\"National Park Species References\"),\n",
    "\n",
    "    # Create drop down menu for Park filter\n",
    "    dcc.Dropdown(\n",
    "        id='park-dropdown',\n",
    "        options=[{'label': park, 'value': park} for park in df['ParkName'].unique()],\n",
    "        multi=True,\n",
    "        value=[df['ParkName'].unique()[0]],\n",
    "        clearable=False\n",
    "    ),\n",
    "\n",
    "    dcc.Graph(id='scatter-plot'),\n",
    "    dcc.Graph(id='bar-chart')\n",
    "])\n",
    "\n",
    "# Scatter plot\n",
    "@app.callback(\n",
    "    Output('scatter-plot', 'figure'),\n",
    "    Input('park-dropdown', 'value')\n",
    ")\n",
    "def update_scatter(selected_parks):\n",
    "    data = filter_data(selected_parks)\n",
    "    data = data.sort_values(\"FoodChainLevel\")\n",
    "\n",
    "    fig = px.scatter(\n",
    "        data,\n",
    "        x='FoodChainLevel',\n",
    "        y='References',\n",
    "        title=f\"Species References in Selected Parks\",\n",
    "        labels={'FoodChainLevel': 'Food Chain Level', 'References': 'Total References'},\n",
    "        size='References',\n",
    "        size_max=60,  # Increase this value to make dots larger\n",
    "        color='CategoryName',  # Add color\n",
    "        hover_data=['CategoryName']\n",
    "    )\n",
    "\n",
    "    # Compute regression line\n",
    "    x = data['FoodChainLevel']\n",
    "    y = data['References']\n",
    "    if len(x) > 1:  # Ensure enough data points for regression\n",
    "        slope, intercept = np.polyfit(x, y, 1)\n",
    "        regression_y = slope * x + intercept\n",
    "\n",
    "        fig.add_trace(\n",
    "            go.Scatter(\n",
    "                x=x, y=regression_y,\n",
    "                mode='lines',\n",
    "                name='Regression Line',\n",
    "                line=dict(color='red')\n",
    "            )\n",
    "        )\n",
    "\n",
    "    return fig\n",
    "\n",
    "# Bar chart\n",
    "@app.callback(\n",
    "    Output('bar-chart', 'figure'),\n",
    "    Input('scatter-plot', 'clickData')\n",
    ")\n",
    "def update_bar_chart(clickData):\n",
    "    if clickData is None:\n",
    "        return px.bar(title=\"Select a Category to see Top 10 Common Names\")\n",
    "\n",
    "    # Access click data\n",
    "    category_name = clickData['points'][0]['customdata'][0]\n",
    "    print(\"selected_category: \", category_name)\n",
    "\n",
    "    filtered_df = df[df['CategoryName'] == category_name].copy()\n",
    "\n",
    "    # Check if CommonNames exist\n",
    "    if 'CommonNames' in filtered_df.columns:\n",
    "        # Extract first common name from comma-separated values\n",
    "        filtered_df['PrimaryCommonName'] = filtered_df['CommonNames'].str.split(',').str[0]\n",
    "    else:\n",
    "        # If there is no CommonNames\n",
    "        filtered_df['PrimaryCommonName'] = filtered_df['ScientificName']\n",
    "\n",
    "    # Get top 10 Common names\n",
    "    top_common_names = (filtered_df.groupby('PrimaryCommonName')['References'].sum().reset_index().nlargest(10, 'References'))\n",
    "\n",
    "    fig = px.bar(\n",
    "        top_common_names,\n",
    "        x='PrimaryCommonName',\n",
    "        y='References',\n",
    "        title=f\"Top 10 Common Names in {category_name}\",\n",
    "        labels={'PrimaryCommonName': 'Common Name', 'References': 'Total References'}\n",
    "    )\n",
    "    return fig\n",
    "\n",
    "\n",
    "if __name__ == '__main__':\n",
    "    app.run(port= 8080, jupyter_height=1000)   # Run app"
   ]
  },
  {
   "cell_type": "code",
   "execution_count": null,
   "metadata": {
    "executionInfo": {
     "elapsed": 5494,
     "status": "aborted",
     "timestamp": 1743653573249,
     "user": {
      "displayName": "Trung Ngô",
      "userId": "00146216108353082111"
     },
     "user_tz": -420
    },
    "id": "hzL5nN1n0BCG"
   },
   "outputs": [],
   "source": []
  }
 ],
 "metadata": {
  "colab": {
   "provenance": []
  },
  "kernelspec": {
   "display_name": "Python 3 (ipykernel)",
   "language": "python",
   "name": "python3"
  },
  "language_info": {
   "codemirror_mode": {
    "name": "ipython",
    "version": 3
   },
   "file_extension": ".py",
   "mimetype": "text/x-python",
   "name": "python",
   "nbconvert_exporter": "python",
   "pygments_lexer": "ipython3",
   "version": "3.12.9"
  }
 },
 "nbformat": 4,
 "nbformat_minor": 4
}
